{
 "cells": [
  {
   "cell_type": "code",
   "execution_count": 19,
   "metadata": {
    "collapsed": true,
    "ExecuteTime": {
     "end_time": "2024-01-31T19:56:05.838959Z",
     "start_time": "2024-01-31T19:56:05.817515Z"
    }
   },
   "outputs": [],
   "source": [
    "import pandas as pd\n",
    "import numpy as np\n",
    "import scipy.stats as stats\n",
    "import statsmodels.api as sm\n",
    "from sklearn.neighbors import KNeighborsRegressor\n",
    "from sklearn import linear_model\n",
    "from sklearn.model_selection import train_test_split\n",
    "import matplotlib.pyplot as plt"
   ]
  },
  {
   "cell_type": "code",
   "execution_count": 20,
   "outputs": [],
   "source": [
    "def simulation_simple_model_homoskedasticity_high_r_squared(times):\n",
    "\n",
    "    mses_regression = []\n",
    "\n",
    "    mses_knns = {}\n",
    "    ks = [2, 3, 5, 10, 20, 30]\n",
    "    for k in ks:\n",
    "        mses_knns[k] = []\n",
    "\n",
    "    for run in range(times):\n",
    "        # true DGP is: y = b0 + b1 * X + e, X ~ t(5), e ~ N(0, 1)\n",
    "        # sample size: 1000\n",
    "        sample_size = 1000\n",
    "\n",
    "        b0 = 3\n",
    "        b1 = 7\n",
    "        # X = np.reshape(stats.norm.rvs(loc=10, scale=5, size=sample_size), (sample_size, 1))\n",
    "        X = np.reshape(stats.t.rvs(5, size=sample_size), (sample_size, 1))\n",
    "        e = np.reshape(stats.norm.rvs(loc=0, scale=1, size=sample_size), (sample_size, 1))\n",
    "        Y = b0 + b1 * X + e\n",
    "\n",
    "        X_train, X_test, Y_train, Y_test = train_test_split(X, Y, test_size=0.1)\n",
    "\n",
    "        # Linear regression model\n",
    "        linear_reg_model = sm.OLS(Y_train, sm.add_constant(X_train)).fit()\n",
    "        mses_regression.append(np.mean(np.square(linear_reg_model.predict(sm.add_constant(X_test)) - np.reshape(Y_test, (1, int(sample_size * 0.1))))))\n",
    "\n",
    "        # KNN with K = k\n",
    "        for k in ks:\n",
    "            neighbours_model = KNeighborsRegressor(n_neighbors=k).fit(X_train, Y_train)\n",
    "            mses_knns[k].append(np.mean(np.square(neighbours_model.predict(X_test) - Y_test)))\n",
    "\n",
    "\n",
    "    return np.mean(mses_regression), { key: np.mean(mses) for key, mses in mses_knns.items() }"
   ],
   "metadata": {
    "collapsed": false,
    "ExecuteTime": {
     "end_time": "2024-01-31T19:56:05.839124Z",
     "start_time": "2024-01-31T19:56:05.820233Z"
    }
   }
  },
  {
   "cell_type": "code",
   "execution_count": 21,
   "outputs": [],
   "source": [
    "def simulation_simple_model_homoskedasticity_low_r_squared(times):\n",
    "\n",
    "    mses_regression = []\n",
    "\n",
    "    mses_knns = {}\n",
    "    ks = [2, 3, 5, 10, 20, 30]\n",
    "    for k in ks:\n",
    "        mses_knns[k] = []\n",
    "\n",
    "    for run in range(times):\n",
    "        # true DGP is: y = b0 + b1 * X + e, X ~ t(5), e ~ N(0, 10)\n",
    "        sample_size = 1000\n",
    "\n",
    "        b0 = 3\n",
    "        b1 = 7\n",
    "        X = np.reshape(stats.t.rvs(5, size=sample_size), (sample_size, 1))\n",
    "        e = np.reshape(stats.norm.rvs(loc=0, scale=10, size=sample_size), (sample_size, 1))\n",
    "        Y = b0 + b1 * X + e\n",
    "\n",
    "        X_train, X_test, Y_train, Y_test = train_test_split(X, Y, test_size=0.1)\n",
    "\n",
    "        # Linear regression model\n",
    "        linear_reg_model = sm.OLS(Y_train, sm.add_constant(X_train)).fit()\n",
    "        mses_regression.append(np.mean(np.square(linear_reg_model.predict(sm.add_constant(X_test)) - np.reshape(Y_test, (1, int(sample_size * 0.1))))))\n",
    "\n",
    "        # KNN with K = k\n",
    "        for k in ks:\n",
    "            neighbours_model = KNeighborsRegressor(n_neighbors=k).fit(X_train, Y_train)\n",
    "            mses_knns[k].append(np.mean(np.square(neighbours_model.predict(X_test) - Y_test)))\n",
    "\n",
    "\n",
    "    return np.mean(mses_regression), { key: np.mean(mses) for key, mses in mses_knns.items() }"
   ],
   "metadata": {
    "collapsed": false,
    "ExecuteTime": {
     "end_time": "2024-01-31T19:56:05.846992Z",
     "start_time": "2024-01-31T19:56:05.838599Z"
    }
   }
  },
  {
   "cell_type": "code",
   "execution_count": 22,
   "outputs": [],
   "source": [
    "def simulation_simple_model_heteroskedasticity_high_r_squared(times):\n",
    "\n",
    "    mses_regression = []\n",
    "    mses_knns = {}\n",
    "    ks = [2, 3, 5, 10, 20, 30]\n",
    "    for k in ks:\n",
    "        mses_knns[k] = []\n",
    "\n",
    "    for run in range(times):\n",
    "        # true DGP is: y = b0 + b1 * X + e, X ~ t(5) with std = 5, e ~ N(0, |X * 3|)\n",
    "        sample_size = 1000\n",
    "\n",
    "        b0 = 3\n",
    "        b1 = 7\n",
    "        X = np.reshape(stats.t.rvs(5, size=sample_size) * 5 / np.sqrt(5 / 3), (sample_size, 1))\n",
    "\n",
    "        e = np.zeros(sample_size)\n",
    "        for i in range(sample_size):\n",
    "            e[i] = stats.norm.rvs(loc=0, scale=abs(X[i] * 3), size=1)[0]\n",
    "        e = np.reshape(e, (sample_size, 1))\n",
    "\n",
    "        Y = b0 + b1 * X + e\n",
    "\n",
    "        X_train, X_test, Y_train, Y_test = train_test_split(X, Y, test_size=0.1)\n",
    "\n",
    "        # Linear regression model\n",
    "        linear_reg_model = sm.OLS(Y_train, sm.add_constant(X_train)).fit()\n",
    "        mses_regression.append(np.mean(np.square(linear_reg_model.predict(sm.add_constant(X_test)) - np.reshape(Y_test, (1, int(sample_size * 0.1))))))\n",
    "\n",
    "        # KNN with K = k\n",
    "        for k in ks:\n",
    "            neighbours_model = KNeighborsRegressor(n_neighbors=k).fit(X_train, Y_train)\n",
    "            mses_knns[k].append(np.mean(np.square(neighbours_model.predict(X_test) - Y_test)))\n",
    "\n",
    "\n",
    "    return np.mean(mses_regression), { key: np.mean(mses) for key, mses in mses_knns.items() }"
   ],
   "metadata": {
    "collapsed": false,
    "ExecuteTime": {
     "end_time": "2024-01-31T19:56:05.847146Z",
     "start_time": "2024-01-31T19:56:05.838783Z"
    }
   }
  },
  {
   "cell_type": "code",
   "execution_count": 23,
   "outputs": [],
   "source": [
    "def simulation_simple_model_heteroskedasticity_low_r_squared(times):\n",
    "\n",
    "    mses_regression = []\n",
    "    mses_knns = {}\n",
    "    ks = [2, 3, 5, 10, 20, 30]\n",
    "    for k in ks:\n",
    "        mses_knns[k] = []\n",
    "\n",
    "    for run in range(times):\n",
    "        # true DGP is: y = b0 + b1 * X + e, X ~ t(5) with std = 5, e ~ N(0, 10 * |X * 3|)\n",
    "        sample_size = 1000\n",
    "\n",
    "        b0 = 3\n",
    "        b1 = 7\n",
    "        X = np.reshape(stats.t.rvs(5, size=sample_size) * 5 / np.sqrt(5 / 3), (sample_size, 1))\n",
    "\n",
    "        e = np.zeros(sample_size)\n",
    "        for i in range(sample_size):\n",
    "            e[i] = stats.norm.rvs(loc=0, scale=10 * abs(X[i] * 3), size=1)[0]\n",
    "        e = np.reshape(e, (sample_size, 1))\n",
    "\n",
    "        Y = b0 + b1 * X + e\n",
    "\n",
    "        X_train, X_test, Y_train, Y_test = train_test_split(X, Y, test_size=0.1)\n",
    "\n",
    "        # Linear regression model\n",
    "        linear_reg_model = sm.OLS(Y_train, sm.add_constant(X_train)).fit()\n",
    "        mses_regression.append(np.mean(np.square(linear_reg_model.predict(sm.add_constant(X_test)) - np.reshape(Y_test, (1, int(sample_size * 0.1))))))\n",
    "\n",
    "        # KNN with K = k\n",
    "        for k in ks:\n",
    "            neighbours_model = KNeighborsRegressor(n_neighbors=k).fit(X_train, Y_train)\n",
    "            mses_knns[k].append(np.mean(np.square(neighbours_model.predict(X_test) - Y_test)))\n",
    "\n",
    "\n",
    "    return np.mean(mses_regression), { key: np.mean(mses) for key, mses in mses_knns.items() }"
   ],
   "metadata": {
    "collapsed": false,
    "ExecuteTime": {
     "end_time": "2024-01-31T19:56:05.847377Z",
     "start_time": "2024-01-31T19:56:05.838831Z"
    }
   }
  },
  {
   "cell_type": "code",
   "execution_count": 24,
   "outputs": [],
   "source": [
    "def simulation_multiple_model_homoskedasticity_high_r_squared(times):\n",
    "\n",
    "    mses_regression = []\n",
    "\n",
    "    mses_knns = {}\n",
    "    ks = [2, 3, 5, 10, 20, 30]\n",
    "    for k in ks:\n",
    "        mses_knns[k] = []\n",
    "\n",
    "    for run in range(times):\n",
    "        # true DGP is: y = b0 + b1 * X1 + b2 * X2 + b3 * X3 + b4 * X4 + e\n",
    "        # X1 ~ t(5), X2 ~ N(0, 3), X3 ~ N(0, 6), X4 ~ t(3) with std = 5, e ~ N(0, 4)\n",
    "        sample_size = 1000\n",
    "\n",
    "        b0 = 3\n",
    "        b1 = 7\n",
    "        b2 = -4\n",
    "        b3 = 5\n",
    "        b4 = -1\n",
    "\n",
    "        X1 = stats.t.rvs(5, size=sample_size)\n",
    "        X2 = stats.norm.rvs(loc=0, scale=3, size=sample_size)\n",
    "        X3 = stats.norm.rvs(loc=0, scale=6, size=sample_size)\n",
    "        X4 = stats.t.rvs(3, size=sample_size) * 5 / np.sqrt(3 / 1)\n",
    "        X = pd.DataFrame({'X1': X1, 'X2': X2, 'X3': X3, 'X4': X4})\n",
    "\n",
    "        e = stats.norm.rvs(loc=0, scale=1, size=sample_size)\n",
    "        Y = b0 + b1 * X1 + b2 * X2 + b3 * X3 + b4 * X4 + e\n",
    "\n",
    "        X_train, X_test, Y_train, Y_test = train_test_split(X, Y, test_size=0.1)\n",
    "\n",
    "        # Linear regression model\n",
    "        linear_reg_model = linear_model.LinearRegression().fit(X_train, Y_train.reshape(int(sample_size * 0.9), 1))\n",
    "        mses_regression.append(np.mean(np.square(linear_reg_model.predict(X_test) - np.reshape(Y_test, (int(sample_size * 0.1), 1)))))\n",
    "\n",
    "        # KNN with K = k\n",
    "        for k in ks:\n",
    "            neighbours_model = KNeighborsRegressor(n_neighbors=k).fit(X_train, Y_train)\n",
    "            mses_knns[k].append(np.mean(np.square(neighbours_model.predict(X_test) - Y_test)))\n",
    "\n",
    "\n",
    "    return np.mean(mses_regression), { key: np.mean(mses) for key, mses in mses_knns.items() }"
   ],
   "metadata": {
    "collapsed": false,
    "ExecuteTime": {
     "end_time": "2024-01-31T19:56:05.847572Z",
     "start_time": "2024-01-31T19:56:05.843131Z"
    }
   }
  },
  {
   "cell_type": "code",
   "execution_count": 25,
   "outputs": [],
   "source": [
    "def simulation_multiple_model_heteroskedasticity_low_r_squared(times):\n",
    "\n",
    "    mses_regression = []\n",
    "\n",
    "    mses_knns = {}\n",
    "    ks = [2, 3, 5, 10, 20, 30]\n",
    "    for k in ks:\n",
    "        mses_knns[k] = []\n",
    "\n",
    "    for run in range(times):\n",
    "        # true DGP is: y = b0 + b1 * X1 + b2 * X2 + b3 * X3 + b4 * X4 + e\n",
    "        # X1 ~ t(5), X2 ~ N(0, 3), X3 ~ N(0, 6), X4 ~ t(3) with std = 5, e ~ N(0, 15 * |X3|)\n",
    "        sample_size = 1000\n",
    "\n",
    "        b0 = 3\n",
    "        b1 = 7\n",
    "        b2 = -4\n",
    "        b3 = 5\n",
    "        b4 = -1\n",
    "\n",
    "        X1 = stats.t.rvs(5, size=sample_size)\n",
    "        X2 = stats.norm.rvs(loc=0, scale=3, size=sample_size)\n",
    "        X3 = stats.norm.rvs(loc=0, scale=6, size=sample_size)\n",
    "        X4 = stats.t.rvs(3, size=sample_size) * 5 / np.sqrt(3 / 1)\n",
    "        X = pd.DataFrame({'X1': X1, 'X2': X2, 'X3': X3, 'X4': X4})\n",
    "\n",
    "        e = np.zeros(sample_size)\n",
    "        for i in range(sample_size):\n",
    "            e[i] = stats.norm.rvs(loc=0, scale=15 * abs(X3[i]), size=1)[0]\n",
    "\n",
    "        Y = b0 + b1 * X1 + b2 * X2 + b3 * X3 + b4 * X4 + e\n",
    "\n",
    "        X_train, X_test, Y_train, Y_test = train_test_split(X, Y, test_size=0.1)\n",
    "\n",
    "        # Linear regression model\n",
    "        linear_reg_model = linear_model.LinearRegression().fit(X_train, Y_train.reshape(int(sample_size * 0.9), 1))\n",
    "        mses_regression.append(np.mean(np.square(linear_reg_model.predict(X_test) - np.reshape(Y_test, (int(sample_size * 0.1), 1)))))\n",
    "\n",
    "        # KNN with K = k\n",
    "        for k in ks:\n",
    "            neighbours_model = KNeighborsRegressor(n_neighbors=k).fit(X_train, Y_train)\n",
    "            mses_knns[k].append(np.mean(np.square(neighbours_model.predict(X_test) - Y_test)))\n",
    "\n",
    "\n",
    "    return np.mean(mses_regression), { key: np.mean(mses) for key, mses in mses_knns.items() }\n"
   ],
   "metadata": {
    "collapsed": false,
    "ExecuteTime": {
     "end_time": "2024-01-31T19:56:05.852490Z",
     "start_time": "2024-01-31T19:56:05.848402Z"
    }
   }
  },
  {
   "cell_type": "code",
   "execution_count": 26,
   "outputs": [],
   "source": [
    "def summarize(title, linear_mse, knns_mses):\n",
    "    print(title)\n",
    "    print(linear_mse)\n",
    "    print(knns_mses)\n",
    "\n",
    "    fig, ax = plt.subplots()\n",
    "\n",
    "    ax.axhline(y=linear_mse, color='r', linestyle='--')\n",
    "\n",
    "    x, y = zip(*knns_mses.items())\n",
    "    ax.plot(x, y, color='b')\n",
    "\n",
    "    ax.set_xlabel('parameter K in KNN')\n",
    "    ax.set_ylabel('MSE')\n",
    "    ax.legend(['Linear model MSE', 'KNN MSE'])\n",
    "\n",
    "    ax.set_title(title)\n",
    "\n",
    "    plt.show()"
   ],
   "metadata": {
    "collapsed": false,
    "ExecuteTime": {
     "end_time": "2024-01-31T19:56:05.857530Z",
     "start_time": "2024-01-31T19:56:05.851160Z"
    }
   }
  },
  {
   "cell_type": "code",
   "execution_count": null,
   "outputs": [
    {
     "name": "stdout",
     "output_type": "stream",
     "text": [
      "Simple model homoskedastic, low noise\n",
      "1.0018502870001516\n",
      "{2: 2.8224204279328795, 3: 2.796845729651619, 5: 2.9490664157304147, 10: 3.4423223389192112, 20: 4.366321707487396, 30: 5.186512378486678}\n"
     ]
    },
    {
     "data": {
      "text/plain": "<Figure size 640x480 with 1 Axes>",
      "image/png": "[encoded data removed]"
     },
     "metadata": {},
     "output_type": "display_data"
    },
    {
     "name": "stdout",
     "output_type": "stream",
     "text": [
      "Simple model homoskedastic, high noise\n",
      "100.6154703064119\n",
      "{2: 151.3001192514465, 3: 134.83250360018633, 5: 121.52044932101008, 10: 111.92384041408472, 20: 107.88222216767443, 30: 107.1756062704596}\n"
     ]
    },
    {
     "data": {
      "text/plain": "<Figure size 640x480 with 1 Axes>",
      "image/png": "[encoded data removed]"
     },
     "metadata": {},
     "output_type": "display_data"
    }
   ],
   "source": [
    "lms, kms = simulation_simple_model_homoskedasticity_high_r_squared(1000)\n",
    "summarize('Simple model homoskedastic, low noise', lms, kms)\n",
    "\n",
    "lms, kms = simulation_simple_model_homoskedasticity_low_r_squared(1000)\n",
    "summarize('Simple model homoskedastic, high noise', lms, kms)\n",
    "\n",
    "lms, kms = simulation_simple_model_heteroskedasticity_high_r_squared(1000)\n",
    "summarize('Simple model heteroskedastic, low noise', lms, kms)\n",
    "\n",
    "lms, kms = simulation_simple_model_heteroskedasticity_low_r_squared(1000)\n",
    "summarize('Simple model heteroskedastic, high noise', lms, kms)\n",
    "\n",
    "lms, kms = simulation_multiple_model_homoskedasticity_high_r_squared(1000)\n",
    "summarize('Multiple model homoskedastic, low noise', lms, kms)\n",
    "\n",
    "lms, kms = simulation_multiple_model_heteroskedasticity_low_r_squared(1000)\n",
    "summarize('Multiple model heteroskedastic, high noise', lms, kms)"
   ],
   "metadata": {
    "collapsed": false,
    "is_executing": true,
    "ExecuteTime": {
     "start_time": "2024-01-31T19:56:05.857841Z"
    }
   }
  }
 ],
 "metadata": {
  "kernelspec": {
   "display_name": "Python 3",
   "language": "python",
   "name": "python3"
  },
  "language_info": {
   "codemirror_mode": {
    "name": "ipython",
    "version": 2
   },
   "file_extension": ".py",
   "mimetype": "text/x-python",
   "name": "python",
   "nbconvert_exporter": "python",
   "pygments_lexer": "ipython2",
   "version": "2.7.6"
  }
 },
 "nbformat": 4,
 "nbformat_minor": 0
}

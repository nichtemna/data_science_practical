{
 "cells": [
  {
   "cell_type": "code",
   "execution_count": 188,
   "metadata": {
    "collapsed": true,
    "ExecuteTime": {
     "end_time": "2024-01-22T13:24:59.259278Z",
     "start_time": "2024-01-22T13:24:59.251847Z"
    }
   },
   "outputs": [],
   "source": [
    "import numpy as np\n",
    "import pandas as pd\n",
    "pd.options.mode.chained_assignment = None"
   ]
  },
  {
   "cell_type": "code",
   "execution_count": 189,
   "outputs": [],
   "source": [
    "DF = pd.read_excel('data/data8.xls')"
   ],
   "metadata": {
    "collapsed": false,
    "ExecuteTime": {
     "end_time": "2024-01-22T13:24:59.269420Z",
     "start_time": "2024-01-22T13:24:59.252149Z"
    }
   }
  },
  {
   "cell_type": "code",
   "execution_count": 190,
   "outputs": [],
   "source": [
    "# Percent of rented properties\n",
    "DF['pctrnths'] = DF['rnthsg'] / DF['tothsg'] * 100\n",
    "\n",
    "# Normalise features\n",
    "DF['pop_scaled'] = (DF['pop'] - DF['pop'].mean()) / DF['pop'].std()\n",
    "DF['pctstu_scaled'] = (DF['pctstu'] - DF['pctstu'].mean()) / DF['pctstu'].std()\n",
    "DF['pctrnths_scaled'] = (DF['pctrnths'] - DF['pctrnths'].mean()) / DF['pctrnths'].std()\n",
    "DF['avginc_scaled'] = (DF['avginc'] - DF['avginc'].mean()) / DF['avginc'].std()"
   ],
   "metadata": {
    "collapsed": false,
    "ExecuteTime": {
     "end_time": "2024-01-22T13:24:59.269912Z",
     "start_time": "2024-01-22T13:24:59.265056Z"
    }
   }
  },
  {
   "cell_type": "code",
   "execution_count": 191,
   "outputs": [],
   "source": [
    "# Divide data for 80s and 90s\n",
    "DF80 = DF[DF['year'] == 80]\n",
    "DF90 = DF[DF['year'] == 90]"
   ],
   "metadata": {
    "collapsed": false,
    "ExecuteTime": {
     "end_time": "2024-01-22T13:24:59.270136Z",
     "start_time": "2024-01-22T13:24:59.268360Z"
    }
   }
  },
  {
   "cell_type": "code",
   "execution_count": 192,
   "outputs": [],
   "source": [
    "# Predict rent using 'pop', 'pctstu', 'pctrnths', 'avginc' feautures using Euclidean distance\n",
    "def get_knn_rent_prediction(df, target, k):\n",
    "    result = df.copy()\n",
    "    result['dist'] = np.sqrt(\n",
    "        (result['pop_scaled'] - target['pop_scaled']) ** 2 +\n",
    "        (result['pctstu_scaled'] - target['pctstu_scaled']) ** 2 +\n",
    "        (result['pctrnths_scaled'] - target['pctrnths_scaled']) ** 2 +\n",
    "        (result['avginc_scaled'] - target['avginc_scaled']) ** 2\n",
    "    )\n",
    "    return result.sort_values(by='dist').iloc[1:k + 1]['rent'].mean()"
   ],
   "metadata": {
    "collapsed": false,
    "ExecuteTime": {
     "end_time": "2024-01-22T13:24:59.276905Z",
     "start_time": "2024-01-22T13:24:59.272573Z"
    }
   }
  },
  {
   "cell_type": "code",
   "execution_count": 193,
   "outputs": [],
   "source": [
    "def mean_square_error(prediction, actual):\n",
    "    return np.mean((prediction - actual) ** 2)"
   ],
   "metadata": {
    "collapsed": false,
    "ExecuteTime": {
     "end_time": "2024-01-22T13:24:59.280153Z",
     "start_time": "2024-01-22T13:24:59.276270Z"
    }
   }
  },
  {
   "cell_type": "code",
   "execution_count": 194,
   "outputs": [],
   "source": [
    "def mean_absolute_error(prediction, actual):\n",
    "    return np.mean(np.abs(prediction - actual))"
   ],
   "metadata": {
    "collapsed": false,
    "ExecuteTime": {
     "end_time": "2024-01-22T13:24:59.281549Z",
     "start_time": "2024-01-22T13:24:59.278273Z"
    }
   }
  },
  {
   "cell_type": "code",
   "execution_count": 195,
   "outputs": [],
   "source": [
    "def calculate_errors_for_knn(k):\n",
    "    DF80['pred'] = DF80.apply(lambda x: get_knn_rent_prediction(DF80, x, k), axis=1)\n",
    "    DF90['pred'] = DF90.apply(lambda x: get_knn_rent_prediction(DF90, x, k), axis=1)\n",
    "    print(\"For k =\", k)\n",
    "    print(\"MSE for 80s: \", mean_square_error(DF80['pred'], DF80['rent']))\n",
    "    print(\"MSE for 90s: \", mean_square_error(DF90['pred'], DF90['rent']))\n",
    "    print(\"MAE for 80s: \", mean_absolute_error(DF80['pred'], DF80['rent']))\n",
    "    print(\"MAE for 90s: \", mean_absolute_error(DF90['pred'], DF90['rent']))"
   ],
   "metadata": {
    "collapsed": false,
    "ExecuteTime": {
     "end_time": "2024-01-22T13:24:59.290304Z",
     "start_time": "2024-01-22T13:24:59.282560Z"
    }
   }
  },
  {
   "cell_type": "code",
   "execution_count": 196,
   "outputs": [
    {
     "name": "stdout",
     "output_type": "stream",
     "text": [
      "For k = 1\n",
      "MSE for 80s:  1123.328125\n",
      "MSE for 90s:  7784.65625\n",
      "MAE for 80s:  22.515625\n",
      "MAE for 90s:  56.5\n",
      "For k = 2\n",
      "MSE for 80s:  1547.8828125\n",
      "MSE for 90s:  7225.515625\n",
      "MAE for 80s:  24.15625\n",
      "MAE for 90s:  55.453125\n",
      "For k = 3\n",
      "MSE for 80s:  1518.6302083333335\n",
      "MSE for 90s:  6765.368055555555\n",
      "MAE for 80s:  23.796875\n",
      "MAE for 90s:  52.82291666666667\n",
      "For k = 4\n",
      "MSE for 80s:  1635.421875\n",
      "MSE for 90s:  6516.6572265625\n",
      "MAE for 80s:  23.90625\n",
      "MAE for 90s:  50.57421875\n",
      "For k = 5\n",
      "MSE for 80s:  1685.7475000000002\n",
      "MSE for 90s:  7162.996875000001\n",
      "MAE for 80s:  24.125000000000004\n",
      "MAE for 90s:  53.33437500000001\n",
      "For k = 6\n",
      "MSE for 80s:  1679.046875\n",
      "MSE for 90s:  6911.506076388889\n",
      "MAE for 80s:  23.786458333333336\n",
      "MAE for 90s:  52.505208333333336\n",
      "For k = 7\n",
      "MSE for 80s:  1716.4639668367347\n",
      "MSE for 90s:  6970.433035714284\n",
      "MAE for 80s:  24.569196428571427\n",
      "MAE for 90s:  53.1875\n",
      "For k = 8\n",
      "MSE for 80s:  1587.22900390625\n",
      "MSE for 90s:  7245.0634765625\n",
      "MAE for 80s:  23.9453125\n",
      "MAE for 90s:  53.01171875\n",
      "For k = 9\n",
      "MSE for 80s:  1609.9238040123455\n",
      "MSE for 90s:  7246.053047839507\n",
      "MAE for 80s:  24.36284722222222\n",
      "MAE for 90s:  52.262152777777786\n"
     ]
    }
   ],
   "source": [
    "# Experiment with different k values\n",
    "for k in range(1, 10):\n",
    "    calculate_errors_for_knn(k)"
   ],
   "metadata": {
    "collapsed": false,
    "ExecuteTime": {
     "end_time": "2024-01-22T13:24:59.937203Z",
     "start_time": "2024-01-22T13:24:59.291601Z"
    }
   }
  }
 ],
 "metadata": {
  "kernelspec": {
   "display_name": "Python 3",
   "language": "python",
   "name": "python3"
  },
  "language_info": {
   "codemirror_mode": {
    "name": "ipython",
    "version": 2
   },
   "file_extension": ".py",
   "mimetype": "text/x-python",
   "name": "python",
   "nbconvert_exporter": "python",
   "pygments_lexer": "ipython2",
   "version": "2.7.6"
  }
 },
 "nbformat": 4,
 "nbformat_minor": 0
}

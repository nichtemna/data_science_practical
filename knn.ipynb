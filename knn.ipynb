{
 "cells": [
  {
   "cell_type": "code",
   "execution_count": 1,
   "metadata": {
    "ExecuteTime": {
     "end_time": "2024-01-22T13:24:59.259278Z",
     "start_time": "2024-01-22T13:24:59.251847Z"
    }
   },
   "outputs": [],
   "source": [
    "import numpy as np\n",
    "import pandas as pd\n",
    "pd.options.mode.chained_assignment = None"
   ]
  },
  {
   "cell_type": "code",
   "execution_count": 2,
   "metadata": {
    "ExecuteTime": {
     "end_time": "2024-01-22T13:24:59.269420Z",
     "start_time": "2024-01-22T13:24:59.252149Z"
    }
   },
   "outputs": [],
   "source": [
    "DF = pd.read_excel('data8.xls')"
   ]
  },
  {
   "cell_type": "code",
   "execution_count": 3,
   "metadata": {
    "ExecuteTime": {
     "end_time": "2024-01-22T13:24:59.269912Z",
     "start_time": "2024-01-22T13:24:59.265056Z"
    }
   },
   "outputs": [],
   "source": [
    "# Percent of rented properties\n",
    "DF['pctrnths'] = DF['rnthsg'] / DF['tothsg'] * 100\n",
    "\n",
    "# Normalise features\n",
    "DF['pop_scaled'] = (DF['pop'] - DF['pop'].mean()) / DF['pop'].std()\n",
    "DF['pctstu_scaled'] = (DF['pctstu'] - DF['pctstu'].mean()) / DF['pctstu'].std()\n",
    "DF['pctrnths_scaled'] = (DF['pctrnths'] - DF['pctrnths'].mean()) / DF['pctrnths'].std()\n",
    "DF['avginc_scaled'] = (DF['avginc'] - DF['avginc'].mean()) / DF['avginc'].std()\n",
    "DF['rent_scaled'] = (DF['rent'] - DF['rent'].mean()) / DF['rent'].std()"
   ]
  },
  {
   "cell_type": "code",
   "execution_count": 4,
   "metadata": {
    "ExecuteTime": {
     "end_time": "2024-01-22T13:24:59.270136Z",
     "start_time": "2024-01-22T13:24:59.268360Z"
    }
   },
   "outputs": [],
   "source": [
    "# Divide data for 80s and 90s\n",
    "DF80 = DF[DF['year'] == 80]\n",
    "DF90 = DF[DF['year'] == 90]\n",
    "\n",
    "X80 = DF80[['pop_scaled', 'pctstu_scaled', 'pctrnths_scaled', 'avginc_scaled']]\n",
    "y80 = DF80['rent']\n",
    "\n",
    "\n",
    "\n",
    "X90 = DF90[['pop_scaled', 'pctstu_scaled', 'pctrnths_scaled', 'avginc_scaled']]\n",
    "y90 = DF90['rent']"
   ]
  },
  {
   "cell_type": "code",
   "execution_count": 5,
   "metadata": {
    "ExecuteTime": {
     "end_time": "2024-01-22T13:24:59.276905Z",
     "start_time": "2024-01-22T13:24:59.272573Z"
    }
   },
   "outputs": [],
   "source": [
    "# Predict rent using 'pop', 'pctstu', 'pctrnths', 'avginc' feautures using Euclidean distance\n",
    "def get_knn_rent_prediction(df, target, k):\n",
    "    result = df.copy()\n",
    "    result['dist'] = np.sqrt(\n",
    "        (result['pop_scaled'] - target['pop_scaled']) ** 2 +\n",
    "        (result['pctstu_scaled'] - target['pctstu_scaled']) ** 2 +\n",
    "        (result['pctrnths_scaled'] - target['pctrnths_scaled']) ** 2 +\n",
    "        (result['avginc_scaled'] - target['avginc_scaled']) ** 2\n",
    "    )\n",
    "    return result.sort_values(by='dist').iloc[1:k + 1]['rent'].mean()"
   ]
  },
  {
   "cell_type": "code",
   "execution_count": 6,
   "metadata": {
    "ExecuteTime": {
     "end_time": "2024-01-22T13:24:59.280153Z",
     "start_time": "2024-01-22T13:24:59.276270Z"
    }
   },
   "outputs": [],
   "source": [
    "def mean_square_error(prediction, actual):\n",
    "    return np.mean((prediction - actual) ** 2)"
   ]
  },
  {
   "cell_type": "code",
   "execution_count": 7,
   "metadata": {
    "ExecuteTime": {
     "end_time": "2024-01-22T13:24:59.281549Z",
     "start_time": "2024-01-22T13:24:59.278273Z"
    }
   },
   "outputs": [],
   "source": [
    "def mean_absolute_error(prediction, actual):\n",
    "    return np.mean(np.abs(prediction - actual))"
   ]
  },
  {
   "cell_type": "code",
   "execution_count": 8,
   "metadata": {
    "ExecuteTime": {
     "end_time": "2024-01-22T13:24:59.290304Z",
     "start_time": "2024-01-22T13:24:59.282560Z"
    }
   },
   "outputs": [],
   "source": [
    "def calculate_errors_for_knn(k):\n",
    "    DF80['pred'] = DF80.apply(lambda x: get_knn_rent_prediction(DF80, x, k), axis=1)\n",
    "    DF90['pred'] = DF90.apply(lambda x: get_knn_rent_prediction(DF90, x, k), axis=1)\n",
    "    print(\"For k =\", k)\n",
    "    MSE_80 = mean_square_error(DF80['pred'], DF80['rent'])\n",
    "    MAE_80 = mean_square_error(DF90['pred'], DF90['rent'])\n",
    "    MSE_90 = mean_absolute_error(DF80['pred'], DF80['rent'])\n",
    "    MAE_90 = mean_absolute_error(DF90['pred'], DF90['rent'])\n",
    "    print(\"MSE for 80s: \", MSE_80)\n",
    "    print(\"MSE for 90s: \", MAE_80)\n",
    "    print(\"MAE for 80s: \", MSE_90)\n",
    "    print(\"MAE for 90s: \", MAE_90)"
   ]
  },
  {
   "cell_type": "code",
   "execution_count": 9,
   "metadata": {
    "ExecuteTime": {
     "end_time": "2024-01-22T13:24:59.937203Z",
     "start_time": "2024-01-22T13:24:59.291601Z"
    }
   },
   "outputs": [
    {
     "name": "stdout",
     "output_type": "stream",
     "text": [
      "For k = 1\n",
      "MSE for 80s:  1123.328125\n",
      "MSE for 90s:  7784.65625\n",
      "MAE for 80s:  22.515625\n",
      "MAE for 90s:  56.5\n",
      "For k = 2\n",
      "MSE for 80s:  1547.8828125\n",
      "MSE for 90s:  7225.515625\n",
      "MAE for 80s:  24.15625\n",
      "MAE for 90s:  55.453125\n",
      "For k = 3\n",
      "MSE for 80s:  1518.6302083333335\n",
      "MSE for 90s:  6765.368055555555\n",
      "MAE for 80s:  23.796875\n",
      "MAE for 90s:  52.82291666666667\n",
      "For k = 4\n",
      "MSE for 80s:  1635.421875\n",
      "MSE for 90s:  6516.6572265625\n",
      "MAE for 80s:  23.90625\n",
      "MAE for 90s:  50.57421875\n",
      "For k = 5\n",
      "MSE for 80s:  1685.7475000000002\n",
      "MSE for 90s:  7162.996875000001\n",
      "MAE for 80s:  24.125000000000004\n",
      "MAE for 90s:  53.33437500000001\n",
      "For k = 6\n",
      "MSE for 80s:  1679.046875\n",
      "MSE for 90s:  6911.506076388889\n",
      "MAE for 80s:  23.786458333333336\n",
      "MAE for 90s:  52.505208333333336\n",
      "For k = 7\n",
      "MSE for 80s:  1716.4639668367347\n",
      "MSE for 90s:  6970.433035714284\n",
      "MAE for 80s:  24.569196428571427\n",
      "MAE for 90s:  53.1875\n",
      "For k = 8\n",
      "MSE for 80s:  1587.22900390625\n",
      "MSE for 90s:  7245.0634765625\n",
      "MAE for 80s:  23.9453125\n",
      "MAE for 90s:  53.01171875\n",
      "For k = 9\n",
      "MSE for 80s:  1609.9238040123455\n",
      "MSE for 90s:  7246.053047839507\n",
      "MAE for 80s:  24.36284722222222\n",
      "MAE for 90s:  52.262152777777786\n"
     ]
    }
   ],
   "source": [
    "# Experiment with different k values\n",
    "for k in range(1, 10):\n",
    "    calculate_errors_for_knn(k)"
   ]
  },
  {
   "cell_type": "code",
   "execution_count": 10,
   "metadata": {},
   "outputs": [
    {
     "name": "stdout",
     "output_type": "stream",
     "text": [
      "For k = 1\n",
      "Average MSE for 80s: 1123.328125\n",
      "Average MSE for 90s: 7784.65625\n",
      "Average MAE for 80s: 22.515625\n",
      "Average MAE for 90s: 56.5\n",
      "\n",
      "For k = 2\n",
      "Average MSE for 80s: 1547.8828125\n",
      "Average MSE for 90s: 7225.515625\n",
      "Average MAE for 80s: 24.15625\n",
      "Average MAE for 90s: 55.453125\n",
      "\n",
      "For k = 3\n",
      "Average MSE for 80s: 1518.6302083333323\n",
      "Average MSE for 90s: 6765.368055555556\n",
      "Average MAE for 80s: 23.796875000000007\n",
      "Average MAE for 90s: 52.82291666666666\n",
      "\n",
      "For k = 4\n",
      "Average MSE for 80s: 1635.421875\n",
      "Average MSE for 90s: 6516.6572265625\n",
      "Average MAE for 80s: 23.90625\n",
      "Average MAE for 90s: 50.57421875\n",
      "\n",
      "For k = 5\n",
      "Average MSE for 80s: 1685.7475\n",
      "Average MSE for 90s: 7162.996875000002\n",
      "Average MAE for 80s: 24.124999999999993\n",
      "Average MAE for 90s: 53.334375\n",
      "\n",
      "For k = 6\n",
      "Average MSE for 80s: 1679.0468749999995\n",
      "Average MSE for 90s: 6911.506076388886\n",
      "Average MAE for 80s: 23.786458333333336\n",
      "Average MAE for 90s: 52.50520833333333\n",
      "\n",
      "For k = 7\n",
      "Average MSE for 80s: 1716.4639668367354\n",
      "Average MSE for 90s: 6970.433035714288\n",
      "Average MAE for 80s: 24.56919642857143\n",
      "Average MAE for 90s: 53.187500000000014\n",
      "\n",
      "For k = 8\n",
      "Average MSE for 80s: 1587.22900390625\n",
      "Average MSE for 90s: 7245.0634765625\n",
      "Average MAE for 80s: 23.9453125\n",
      "Average MAE for 90s: 53.01171875\n",
      "\n",
      "For k = 9\n",
      "Average MSE for 80s: 1609.923804012345\n",
      "Average MSE for 90s: 7246.0530478395\n",
      "Average MAE for 80s: 24.362847222222232\n",
      "Average MAE for 90s: 52.26215277777778\n",
      "\n"
     ]
    }
   ],
   "source": [
    "MSE_80 = 0\n",
    "MSE_90 = 0\n",
    "MAE_80 = 0\n",
    "MAE_90 = 0\n",
    "    \n",
    "k_values = np.arange(1, 10)\n",
    "\n",
    "# Perform LOOCV for each k\n",
    "for k in k_values:\n",
    "    MSE_80 = 0\n",
    "    MSE_90 = 0\n",
    "    MAE_80 = 0\n",
    "    MAE_90 = 0\n",
    "\n",
    "    # Perform LOOCV for 80\n",
    "    for i in range(len(X80)):\n",
    "        target = X80.iloc[i]\n",
    "        y_train = np.delete(y80.values, i, axis=0)\n",
    "\n",
    "        knn = DF80.apply(lambda x: get_knn_rent_prediction(DF80, x, k), axis=1)\n",
    "        MSE_80 += mean_square_error(y80.iloc[i], knn.iloc[i])\n",
    "        MAE_80 += mean_absolute_error(y80.iloc[i], knn.iloc[i])\n",
    "\n",
    "    # Perform LOOCV for 90\n",
    "    for i in range(len(X90)):\n",
    "        target = X90.iloc[i]\n",
    "        y_train = np.delete(y90.values, i, axis=0)\n",
    "\n",
    "        knn = DF90.apply(lambda x: get_knn_rent_prediction(DF90, x, k), axis=1)\n",
    "        MSE_90 += mean_square_error(y90.iloc[i], knn.iloc[i])\n",
    "        MAE_90 += mean_absolute_error(y90.iloc[i], knn.iloc[i])\n",
    "\n",
    "    # Calculate average MSE and MAE\n",
    "    avg_mse_80s = MSE_80 / len(X80)\n",
    "    avg_mse_90s = MSE_90 / len(X90)\n",
    "    avg_mae_80s = MAE_80 / len(X80)\n",
    "    avg_mae_90s = MAE_90 / len(X90)\n",
    "\n",
    "    # Print results \n",
    "    print(f\"For k = {k}\")\n",
    "    print(f\"Average MSE for 80s: {avg_mse_80s}\")\n",
    "    print(f\"Average MSE for 90s: {avg_mse_90s}\")\n",
    "    print(f\"Average MAE for 80s: {avg_mae_80s}\")\n",
    "    print(f\"Average MAE for 90s: {avg_mae_90s}\")\n",
    "    print()\n"
   ]
  },
  {
   "cell_type": "code",
   "execution_count": 11,
   "metadata": {},
   "outputs": [
    {
     "name": "stdout",
     "output_type": "stream",
     "text": [
      "For k = 1\n",
      "Average MSE for 80s: 1151.3333333333333\n",
      "Average MSE for 90s: 7950.333333333334\n",
      "Average MAE for 80s: 22.466666666666665\n",
      "Average MAE for 90s: 56.03333333333334\n",
      "\n",
      "For k = 2\n",
      "Average MSE for 80s: 1591.1208333333334\n",
      "Average MSE for 90s: 7402.9000000000015\n",
      "Average MAE for 80s: 23.958333333333332\n",
      "Average MAE for 90s: 56.0\n",
      "\n",
      "For k = 3\n",
      "Average MSE for 80s: 1582.5444444444445\n",
      "Average MSE for 90s: 6871.383333333333\n",
      "Average MAE for 80s: 23.922222222222224\n",
      "Average MAE for 90s: 53.216666666666676\n",
      "\n",
      "For k = 4\n",
      "Average MSE for 80s: 1710.2520833333335\n",
      "Average MSE for 90s: 6623.479166666667\n",
      "Average MAE for 80s: 24.116666666666664\n",
      "Average MAE for 90s: 51.075\n",
      "\n",
      "For k = 5\n",
      "Average MSE for 80s: 1745.3593333333333\n",
      "Average MSE for 90s: 7327.552666666667\n",
      "Average MAE for 80s: 23.943333333333335\n",
      "Average MAE for 90s: 54.07000000000001\n",
      "\n",
      "For k = 6\n",
      "Average MSE for 80s: 1745.026388888889\n",
      "Average MSE for 90s: 7098.579166666667\n",
      "Average MAE for 80s: 23.669444444444444\n",
      "Average MAE for 90s: 53.108333333333334\n",
      "\n",
      "For k = 7\n",
      "Average MSE for 80s: 1786.954081632653\n",
      "Average MSE for 90s: 7153.364965986393\n",
      "Average MAE for 80s: 24.559523809523807\n",
      "Average MAE for 90s: 53.40238095238095\n",
      "\n",
      "For k = 8\n",
      "Average MSE for 80s: 1651.5302083333331\n",
      "Average MSE for 90s: 7463.203645833333\n",
      "Average MAE for 80s: 23.908333333333335\n",
      "Average MAE for 90s: 53.52083333333333\n",
      "\n",
      "For k = 9\n",
      "Average MSE for 80s: 1673.1133744855965\n",
      "Average MSE for 90s: 7475.0816872427995\n",
      "Average MAE for 80s: 24.283333333333335\n",
      "Average MAE for 90s: 52.675925925925924\n",
      "\n"
     ]
    }
   ],
   "source": [
    "# Define the number of folds (k)\n",
    "num_folds = 5\n",
    "random_seed = 4\n",
    "\n",
    "for k in range(1, 10):\n",
    "    MSE_80 = 0\n",
    "    MSE_90 = 0\n",
    "    MAE_80 = 0\n",
    "    MAE_90 = 0\n",
    "    \n",
    "    for fold in range(num_folds):\n",
    "        # Set seed for reproducibility\n",
    "        np.random.seed(random_seed + fold)\n",
    "\n",
    "        # Shuffle indices for random splitting\n",
    "        indices_80 = np.random.permutation(len(X80))\n",
    "        indices_90 = np.random.permutation(len(X90))\n",
    "\n",
    "\n",
    "    # Split data into folds manually for 80s\n",
    "    fold_size_80 = len(X80) // num_folds\n",
    "    for i in range(num_folds):\n",
    "        start_idx = i * fold_size_80\n",
    "        end_idx = (i + 1) * fold_size_80\n",
    "        test_indices = indices_80[start_idx:end_idx]\n",
    "\n",
    "        train_indices = np.concatenate([indices_80[:start_idx], indices_80[end_idx:]])\n",
    "\n",
    "        X_train, X_test = X80.iloc[train_indices], X80.iloc[test_indices]\n",
    "        y_train, y_test = y80.iloc[train_indices], y80.iloc[test_indices]\n",
    "\n",
    "        knn = DF80.apply(lambda x: get_knn_rent_prediction(DF80, x, k), axis=1)\n",
    "        knn = knn.iloc[test_indices]\n",
    "        MSE_80 += mean_square_error(y_test, knn)\n",
    "        MAE_80 += mean_absolute_error(y_test, knn)\n",
    "\n",
    "    # Split data into folds manually for 90s\n",
    "    fold_size_90 = len(X90) // num_folds\n",
    "    for i in range(num_folds):\n",
    "        start_idx = i * fold_size_90\n",
    "        end_idx = (i + 1) * fold_size_90\n",
    "        test_indices = indices_90[start_idx:end_idx]\n",
    "\n",
    "        train_indices = np.concatenate([indices_90[:start_idx], indices_90[end_idx:]])\n",
    "\n",
    "        X_train, X_test = X90.iloc[train_indices], X90.iloc[test_indices]\n",
    "        y_train, y_test = y90.iloc[train_indices], y90.iloc[test_indices]\n",
    "\n",
    "        knn = DF90.apply(lambda x: get_knn_rent_prediction(DF90, x, k), axis=1)\n",
    "        knn = knn.iloc[test_indices]\n",
    "        MSE_90 += mean_square_error(y_test, knn)\n",
    "        MAE_90 += mean_absolute_error(y_test, knn)\n",
    "\n",
    "    # Calculate average MSE and MAE\n",
    "    avg_MSE_80s = MSE_80 / num_folds\n",
    "    avg_MSE_90s = MSE_90 / num_folds\n",
    "    avg_MAE_80s = MAE_80 / num_folds\n",
    "    avg_MAE_90s = MAE_90 / num_folds\n",
    "\n",
    "    #result\n",
    "    print(f\"For k = {k}\")\n",
    "    print(f\"Average MSE for 80s: {avg_MSE_80s}\")\n",
    "    print(f\"Average MSE for 90s: {avg_MSE_90s}\")\n",
    "    print(f\"Average MAE for 80s: {avg_MAE_80s}\")\n",
    "    print(f\"Average MAE for 90s: {avg_MAE_90s}\")\n",
    "    print()"
   ]
  },
  {
   "cell_type": "code",
   "execution_count": null,
   "metadata": {},
   "outputs": [],
   "source": []
  }
 ],
 "metadata": {
  "kernelspec": {
   "display_name": "Python 3 (ipykernel)",
   "language": "python",
   "name": "python3"
  },
  "language_info": {
   "codemirror_mode": {
    "name": "ipython",
    "version": 3
   },
   "file_extension": ".py",
   "mimetype": "text/x-python",
   "name": "python",
   "nbconvert_exporter": "python",
   "pygments_lexer": "ipython3",
   "version": "3.10.9"
  }
 },
 "nbformat": 4,
 "nbformat_minor": 1
}

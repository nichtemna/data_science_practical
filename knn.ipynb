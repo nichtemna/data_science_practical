{
 "cells": [
  {
   "cell_type": "code",
   "execution_count": 1,
   "metadata": {
    "ExecuteTime": {
     "end_time": "2024-01-27T13:28:04.882592Z",
     "start_time": "2024-01-27T13:28:04.381431Z"
    }
   },
   "outputs": [],
   "source": [
    "import numpy as np\n",
    "import pandas as pd\n",
    "pd.options.mode.chained_assignment = None"
   ]
  },
  {
   "cell_type": "code",
   "execution_count": 2,
   "metadata": {
    "ExecuteTime": {
     "end_time": "2024-01-27T13:28:04.899876Z",
     "start_time": "2024-01-27T13:28:04.883583Z"
    }
   },
   "outputs": [],
   "source": [
    "DF = pd.read_excel('data/data8.xls')"
   ]
  },
  {
   "cell_type": "code",
   "execution_count": 3,
   "metadata": {
    "ExecuteTime": {
     "end_time": "2024-01-27T13:28:04.905496Z",
     "start_time": "2024-01-27T13:28:04.902905Z"
    }
   },
   "outputs": [],
   "source": [
    "# Percent of rented properties\n",
    "DF['pctrnths'] = DF['rnthsg'] / DF['tothsg'] * 100\n",
    "\n",
    "# Normalise features\n",
    "DF['pop_scaled'] = (DF['pop'] - DF['pop'].mean()) / DF['pop'].std()\n",
    "DF['pctstu_scaled'] = (DF['pctstu'] - DF['pctstu'].mean()) / DF['pctstu'].std()\n",
    "DF['pctrnths_scaled'] = (DF['pctrnths'] - DF['pctrnths'].mean()) / DF['pctrnths'].std()\n",
    "DF['avginc_scaled'] = (DF['avginc'] - DF['avginc'].mean()) / DF['avginc'].std()"
   ]
  },
  {
   "cell_type": "code",
   "execution_count": 4,
   "metadata": {
    "ExecuteTime": {
     "end_time": "2024-01-27T13:28:04.910098Z",
     "start_time": "2024-01-27T13:28:04.904791Z"
    }
   },
   "outputs": [],
   "source": [
    "# Divide data for 80s and 90s\n",
    "DF80 = DF[DF['year'] == 80]\n",
    "DF90 = DF[DF['year'] == 90]\n",
    "\n",
    "X80 = DF80[['pop', 'pctstu', 'pctrnths', 'avginc']]\n",
    "y80 = DF80['rent']\n",
    "\n",
    "X90 = DF80[['pop', 'pctstu', 'pctrnths', 'avginc']]\n",
    "y90 = DF80['rent']"
   ]
  },
  {
   "cell_type": "code",
   "execution_count": 5,
   "metadata": {
    "ExecuteTime": {
     "end_time": "2024-01-27T13:28:04.913466Z",
     "start_time": "2024-01-27T13:28:04.912159Z"
    }
   },
   "outputs": [],
   "source": [
    "# Predict rent using 'pop', 'pctstu', 'pctrnths', 'avginc' feautures using Euclidean distance\n",
    "def get_knn_rent_prediction(df, target, k):\n",
    "    result = df.copy()\n",
    "    result['dist'] = np.sqrt(\n",
    "        (result['pop_scaled'] - target['pop_scaled']) ** 2 +\n",
    "        (result['pctstu_scaled'] - target['pctstu_scaled']) ** 2 +\n",
    "        (result['pctrnths_scaled'] - target['pctrnths_scaled']) ** 2 +\n",
    "        (result['avginc_scaled'] - target['avginc_scaled']) ** 2\n",
    "    )\n",
    "    return result.sort_values(by='dist').iloc[1:k + 1]['rent'].mean()"
   ]
  },
  {
   "cell_type": "code",
   "execution_count": 6,
   "metadata": {
    "ExecuteTime": {
     "end_time": "2024-01-27T13:28:04.917033Z",
     "start_time": "2024-01-27T13:28:04.914006Z"
    }
   },
   "outputs": [],
   "source": [
    "def mean_square_error(prediction, actual):\n",
    "    return np.mean((prediction - actual) ** 2)"
   ]
  },
  {
   "cell_type": "code",
   "execution_count": 7,
   "metadata": {
    "ExecuteTime": {
     "end_time": "2024-01-27T13:28:04.920480Z",
     "start_time": "2024-01-27T13:28:04.917592Z"
    }
   },
   "outputs": [],
   "source": [
    "def mean_absolute_error(prediction, actual):\n",
    "    return np.mean(np.abs(prediction - actual))"
   ]
  },
  {
   "cell_type": "code",
   "execution_count": 8,
   "metadata": {
    "ExecuteTime": {
     "end_time": "2024-01-27T13:28:04.924099Z",
     "start_time": "2024-01-27T13:28:04.922019Z"
    }
   },
   "outputs": [],
   "source": [
    "def calculate_errors_for_knn(k):\n",
    "    DF80['pred'] = DF80.apply(lambda x: get_knn_rent_prediction(DF80, x, k), axis=1)\n",
    "    DF90['pred'] = DF90.apply(lambda x: get_knn_rent_prediction(DF90, x, k), axis=1)\n",
    "    print(\"For k =\", k)\n",
    "    MSE_80 = mean_square_error(DF80['pred'], DF80['rent'])\n",
    "    MAE_80 = mean_square_error(DF90['pred'], DF90['rent'])\n",
    "    MSE_90 = mean_absolute_error(DF80['pred'], DF80['rent'])\n",
    "    MAE_90 = mean_absolute_error(DF90['pred'], DF90['rent'])\n",
    "    print(\"MSE for 80s: \", MSE_80)\n",
    "    print(\"MSE for 90s: \", MAE_80)\n",
    "    print(\"MAE for 80s: \", MSE_90)\n",
    "    print(\"MAE for 90s: \", MAE_90)"
   ]
  },
  {
   "cell_type": "code",
   "execution_count": 9,
   "metadata": {
    "ExecuteTime": {
     "end_time": "2024-01-27T13:28:06.055973Z",
     "start_time": "2024-01-27T13:28:04.925021Z"
    }
   },
   "outputs": [
    {
     "name": "stdout",
     "output_type": "stream",
     "text": [
      "For k = 1\n",
      "MSE for 80s:  1123.328125\n",
      "MSE for 90s:  7784.65625\n",
      "MAE for 80s:  22.515625\n",
      "MAE for 90s:  56.5\n",
      "For k = 2\n",
      "MSE for 80s:  1547.8828125\n",
      "MSE for 90s:  7225.515625\n",
      "MAE for 80s:  24.15625\n",
      "MAE for 90s:  55.453125\n",
      "For k = 3\n",
      "MSE for 80s:  1518.6302083333335\n",
      "MSE for 90s:  6765.368055555555\n",
      "MAE for 80s:  23.796875\n",
      "MAE for 90s:  52.82291666666667\n",
      "For k = 4\n",
      "MSE for 80s:  1635.421875\n",
      "MSE for 90s:  6516.6572265625\n",
      "MAE for 80s:  23.90625\n",
      "MAE for 90s:  50.57421875\n",
      "For k = 5\n",
      "MSE for 80s:  1685.7475000000002\n",
      "MSE for 90s:  7162.996875000001\n",
      "MAE for 80s:  24.125000000000004\n",
      "MAE for 90s:  53.33437500000001\n",
      "For k = 6\n",
      "MSE for 80s:  1679.046875\n",
      "MSE for 90s:  6911.506076388889\n",
      "MAE for 80s:  23.786458333333336\n",
      "MAE for 90s:  52.505208333333336\n",
      "For k = 7\n",
      "MSE for 80s:  1716.4639668367347\n",
      "MSE for 90s:  6970.433035714284\n",
      "MAE for 80s:  24.569196428571427\n",
      "MAE for 90s:  53.1875\n",
      "For k = 8\n",
      "MSE for 80s:  1587.22900390625\n",
      "MSE for 90s:  7245.0634765625\n",
      "MAE for 80s:  23.9453125\n",
      "MAE for 90s:  53.01171875\n",
      "For k = 9\n",
      "MSE for 80s:  1609.9238040123455\n",
      "MSE for 90s:  7246.053047839507\n",
      "MAE for 80s:  24.36284722222222\n",
      "MAE for 90s:  52.262152777777786\n"
     ]
    }
   ],
   "source": [
    "# Experiment with different k values\n",
    "for k in range(1, 10):\n",
    "    calculate_errors_for_knn(k)"
   ]
  },
  {
   "cell_type": "code",
   "execution_count": 10,
   "metadata": {
    "ExecuteTime": {
     "end_time": "2024-01-27T13:28:08.640824Z",
     "start_time": "2024-01-27T13:28:05.541362Z"
    }
   },
   "outputs": [
    {
     "name": "stdout",
     "output_type": "stream",
     "text": [
      "For k = 1\n",
      "Average MSE for 80s: 1189.7000000000003\n",
      "Average MSE for 90s: nan\n",
      "Average MAE for 80s: 23.3\n",
      "Average MAE for 90s: nan\n",
      "\n",
      "For k = 2\n",
      "Average MSE for 80s: 1416.3208333333332\n",
      "Average MSE for 90s: nan\n",
      "Average MAE for 80s: 23.125000000000004\n",
      "Average MAE for 90s: nan\n",
      "\n",
      "For k = 3\n",
      "Average MSE for 80s: 1596.4111111111113\n",
      "Average MSE for 90s: nan\n",
      "Average MAE for 80s: 24.355555555555554\n",
      "Average MAE for 90s: nan\n",
      "\n",
      "For k = 4\n",
      "Average MSE for 80s: 1731.3947916666664\n",
      "Average MSE for 90s: nan\n",
      "Average MAE for 80s: 24.687499999999996\n",
      "Average MAE for 90s: nan\n",
      "\n",
      "For k = 5\n",
      "Average MSE for 80s: 891.8786666666667\n",
      "Average MSE for 90s: nan\n",
      "Average MAE for 80s: 21.513333333333335\n",
      "Average MAE for 90s: nan\n",
      "\n",
      "For k = 6\n",
      "Average MSE for 80s: 1684.386111111111\n",
      "Average MSE for 90s: nan\n",
      "Average MAE for 80s: 23.183333333333334\n",
      "Average MAE for 90s: nan\n",
      "\n",
      "For k = 7\n",
      "Average MSE for 80s: 1716.0775510204087\n",
      "Average MSE for 90s: nan\n",
      "Average MAE for 80s: 23.728571428571428\n",
      "Average MAE for 90s: nan\n",
      "\n",
      "For k = 8\n",
      "Average MSE for 80s: 1687.1627604166665\n",
      "Average MSE for 90s: nan\n",
      "Average MAE for 80s: 24.997916666666665\n",
      "Average MAE for 90s: nan\n",
      "\n",
      "For k = 9\n",
      "Average MSE for 80s: 1695.0158436213992\n",
      "Average MSE for 90s: nan\n",
      "Average MAE for 80s: 24.820370370370366\n",
      "Average MAE for 90s: nan\n",
      "\n"
     ]
    }
   ],
   "source": [
    "# Define the number of folds (k)\n",
    "num_folds = 5\n",
    "\n",
    "for k in range(1, 10):\n",
    "    MSE_80 = 0\n",
    "    MSE_90 = 0\n",
    "    MAE_80 = 0\n",
    "    MAE_90 = 0\n",
    "    \n",
    "\n",
    "    # Shuffle indices for random splitting\n",
    "    indices_80 = np.random.permutation(len(X80))\n",
    "    indices_90 = np.random.permutation(len(X90))\n",
    "\n",
    "    # Split data into folds manually for 80s\n",
    "    fold_size_80 = len(X80) // num_folds\n",
    "    for i in range(num_folds):\n",
    "        start_idx = i * fold_size_80\n",
    "        end_idx = (i + 1) * fold_size_80\n",
    "        test_indices = indices_80[start_idx:end_idx]\n",
    "\n",
    "        train_indices = np.concatenate([indices_80[:start_idx], indices_80[end_idx:]])\n",
    "\n",
    "        X_train, X_test = X80.iloc[train_indices], X80.iloc[test_indices]\n",
    "        y_train, y_test = y80.iloc[train_indices], y80.iloc[test_indices]\n",
    "\n",
    "        knn = DF80.apply(lambda x: get_knn_rent_prediction(DF80, x, k), axis=1)\n",
    "        knn = knn.iloc[test_indices]\n",
    "        MSE_80 += mean_square_error(y_test, knn)\n",
    "        MAE_80 += mean_absolute_error(y_test, knn)\n",
    "\n",
    "    # Split data into folds manually for 90s\n",
    "    fold_size_90 = len(X90) // num_folds\n",
    "    for i in range(num_folds):\n",
    "        start_idx = i * fold_size_90\n",
    "        end_idx = (i + 1) * fold_size_90\n",
    "        test_indices = indices_90[start_idx:end_idx]\n",
    "\n",
    "        train_indices = np.concatenate([indices_90[:start_idx], indices_90[end_idx:]])\n",
    "\n",
    "        X_train, X_test = X90.iloc[train_indices], X90.iloc[test_indices]\n",
    "        y_train, y_test = y90.iloc[train_indices], y90.iloc[test_indices]\n",
    "\n",
    "        knn = DF90.apply(lambda x: get_knn_rent_prediction(DF90, x, k), axis=1)\n",
    "        knn = knn.iloc[test_indices]\n",
    "        MSE_90 += mean_square_error(y_test, knn)\n",
    "        MAE_90 += mean_absolute_error(y_test, knn)\n",
    "\n",
    "    # Calculate average MSE and MAE\n",
    "    avg_MSE_80s = MSE_80 / num_folds\n",
    "    avg_MSE_90s = MSE_90 / num_folds\n",
    "    avg_MAE_80s = MAE_80 / num_folds\n",
    "    avg_MAE_90s = MAE_90 / num_folds\n",
    "\n",
    "    #result\n",
    "    print(f\"For k = {k}\")\n",
    "    print(f\"Average MSE for 80s: {avg_MSE_80s}\")\n",
    "    print(f\"Average MSE for 90s: {avg_MSE_90s}\")\n",
    "    print(f\"Average MAE for 80s: {avg_MAE_80s}\")\n",
    "    print(f\"Average MAE for 90s: {avg_MAE_90s}\")\n",
    "    print()\n"
   ]
  },
  {
   "cell_type": "code",
   "execution_count": 11,
   "metadata": {
    "ExecuteTime": {
     "end_time": "2024-01-27T13:28:45.721715Z",
     "start_time": "2024-01-27T13:28:08.650105Z"
    }
   },
   "outputs": [
    {
     "name": "stdout",
     "output_type": "stream",
     "text": [
      "For k = 1\n",
      "Average MSE for 80s: 1123.328125\n",
      "Average MSE for 90s: 33616.46875\n",
      "Average MAE for 80s: 22.515625\n",
      "Average MAE for 90s: 170.6875\n",
      "\n",
      "For k = 2\n",
      "Average MSE for 80s: 1547.8828125\n",
      "Average MSE for 90s: 32798.546875\n",
      "Average MAE for 80s: 24.15625\n",
      "Average MAE for 90s: 172.671875\n",
      "\n",
      "For k = 3\n",
      "Average MSE for 80s: 1518.6302083333323\n",
      "Average MSE for 90s: 31459.649305555547\n",
      "Average MAE for 80s: 23.796875000000007\n",
      "Average MAE for 90s: 171.23958333333331\n",
      "\n",
      "For k = 4\n",
      "Average MSE for 80s: 1635.421875\n",
      "Average MSE for 90s: 29835.3916015625\n",
      "Average MAE for 80s: 23.90625\n",
      "Average MAE for 90s: 168.03515625\n",
      "\n",
      "For k = 5\n",
      "Average MSE for 80s: 1685.7475\n",
      "Average MSE for 90s: 30758.271875\n",
      "Average MAE for 80s: 24.124999999999993\n",
      "Average MAE for 90s: 170.51562500000003\n",
      "\n",
      "For k = 6\n",
      "Average MSE for 80s: 1679.0468749999995\n",
      "Average MSE for 90s: 30207.71961805555\n",
      "Average MAE for 80s: 23.786458333333336\n",
      "Average MAE for 90s: 169.40624999999994\n",
      "\n",
      "For k = 7\n",
      "Average MSE for 80s: 1716.4639668367354\n",
      "Average MSE for 90s: 30996.39285714285\n",
      "Average MAE for 80s: 24.56919642857143\n",
      "Average MAE for 90s: 171.375\n",
      "\n",
      "For k = 8\n",
      "Average MSE for 80s: 1587.22900390625\n",
      "Average MSE for 90s: 30244.7548828125\n",
      "Average MAE for 80s: 23.9453125\n",
      "Average MAE for 90s: 169.26171875\n",
      "\n",
      "For k = 9\n",
      "Average MSE for 80s: 1609.923804012345\n",
      "Average MSE for 90s: 30069.605131172844\n",
      "Average MAE for 80s: 24.362847222222232\n",
      "Average MAE for 90s: 169.10937500000003\n",
      "\n"
     ]
    }
   ],
   "source": [
    "MSE_80 = 0\n",
    "MSE_90 = 0\n",
    "MAE_80 = 0\n",
    "MAE_90 = 0\n",
    "    \n",
    "k_values = np.arange(1, 10)\n",
    "\n",
    "# Perform LOOCV for each k\n",
    "for k in k_values:\n",
    "    MSE_80 = 0\n",
    "    MSE_90 = 0\n",
    "    MAE_80 = 0\n",
    "    MAE_90 = 0\n",
    "\n",
    "    # Perform LOOCV for 80\n",
    "    for i in range(len(X80)):\n",
    "        target = X80.iloc[i]\n",
    "        y_train = np.delete(y80.values, i, axis=0)\n",
    "\n",
    "        knn = DF80.apply(lambda x: get_knn_rent_prediction(DF80, x, k), axis=1)\n",
    "        MSE_80 += mean_square_error(y80.iloc[i], knn.iloc[i])\n",
    "        MAE_80 += mean_absolute_error(y80.iloc[i], knn.iloc[i])\n",
    "\n",
    "    # Perform LOOCV for 90\n",
    "    for i in range(len(X90)):\n",
    "        target = X90.iloc[i]\n",
    "        y_train = np.delete(y90.values, i, axis=0)\n",
    "\n",
    "        knn = DF90.apply(lambda x: get_knn_rent_prediction(DF90, x, k), axis=1)\n",
    "        MSE_90 += mean_square_error(y90.iloc[i], knn.iloc[i])\n",
    "        MAE_90 += mean_absolute_error(y90.iloc[i], knn.iloc[i])\n",
    "\n",
    "    # Calculate average MSE and MAE\n",
    "    avg_mse_80s = MSE_80 / len(X80)\n",
    "    avg_mse_90s = MSE_90 / len(X90)\n",
    "    avg_mae_80s = MAE_80 / len(X80)\n",
    "    avg_mae_90s = MAE_90 / len(X90)\n",
    "\n",
    "    # Print results \n",
    "    print(f\"For k = {k}\")\n",
    "    print(f\"Average MSE for 80s: {avg_mse_80s}\")\n",
    "    print(f\"Average MSE for 90s: {avg_mse_90s}\")\n",
    "    print(f\"Average MAE for 80s: {avg_mae_80s}\")\n",
    "    print(f\"Average MAE for 90s: {avg_mae_90s}\")\n",
    "    print()\n"
   ]
  },
  {
   "cell_type": "code",
   "execution_count": 11,
   "metadata": {
    "ExecuteTime": {
     "end_time": "2024-01-27T13:28:45.722037Z",
     "start_time": "2024-01-27T13:28:45.721534Z"
    }
   },
   "outputs": [],
   "source": []
  }
 ],
 "metadata": {
  "kernelspec": {
   "display_name": "Python 3 (ipykernel)",
   "language": "python",
   "name": "python3"
  },
  "language_info": {
   "codemirror_mode": {
    "name": "ipython",
    "version": 3
   },
   "file_extension": ".py",
   "mimetype": "text/x-python",
   "name": "python",
   "nbconvert_exporter": "python",
   "pygments_lexer": "ipython3",
   "version": "3.10.9"
  }
 },
 "nbformat": 4,
 "nbformat_minor": 1
}

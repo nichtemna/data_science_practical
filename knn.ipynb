{
 "cells": [
  {
   "cell_type": "code",
   "execution_count": 151,
   "metadata": {
    "collapsed": true,
    "ExecuteTime": {
     "end_time": "2024-01-22T13:11:29.137766Z",
     "start_time": "2024-01-22T13:11:29.129780Z"
    }
   },
   "outputs": [],
   "source": [
    "import numpy as np\n",
    "import pandas as pd"
   ]
  },
  {
   "cell_type": "code",
   "execution_count": 152,
   "outputs": [],
   "source": [
    "DF = pd.read_excel('data/data8.xls')"
   ],
   "metadata": {
    "collapsed": false,
    "ExecuteTime": {
     "end_time": "2024-01-22T13:11:29.164475Z",
     "start_time": "2024-01-22T13:11:29.134274Z"
    }
   }
  },
  {
   "cell_type": "code",
   "execution_count": 153,
   "outputs": [],
   "source": [
    "# Percent of rented properties\n",
    "DF['pctrnths'] = DF['rnthsg'] / DF['tothsg'] * 100\n",
    "\n",
    "# Normalise features\n",
    "DF['pop_scaled'] = (DF['pop'] - DF['pop'].mean()) / DF['pop'].std()\n",
    "DF['pctstu_scaled'] = (DF['pctstu'] - DF['pctstu'].mean()) / DF['pctstu'].std()\n",
    "DF['pctrnths_scaled'] = (DF['pctrnths'] - DF['pctrnths'].mean()) / DF['pctrnths'].std()\n",
    "DF['avginc_scaled'] = (DF['avginc'] - DF['avginc'].mean()) / DF['avginc'].std()"
   ],
   "metadata": {
    "collapsed": false,
    "ExecuteTime": {
     "end_time": "2024-01-22T13:11:29.164879Z",
     "start_time": "2024-01-22T13:11:29.152334Z"
    }
   }
  },
  {
   "cell_type": "code",
   "execution_count": 154,
   "outputs": [],
   "source": [
    "# Divide data for 80s and 90s\n",
    "DF80 = DF[DF['year'] == 80]\n",
    "DF90 = DF[DF['year'] == 90]"
   ],
   "metadata": {
    "collapsed": false,
    "ExecuteTime": {
     "end_time": "2024-01-22T13:11:29.165142Z",
     "start_time": "2024-01-22T13:11:29.156368Z"
    }
   }
  },
  {
   "cell_type": "code",
   "execution_count": 155,
   "outputs": [],
   "source": [
    "# Predict rent using 'pop', 'pctstu', 'pctrnths', 'avginc' feautures using Euclidean distance\n",
    "def get_knn_rent_prediction(df, target, k):\n",
    "    result = df.copy()\n",
    "    result['dist'] = np.sqrt(\n",
    "        # (result['pop_scaled'] - target['pop_scaled']) ** 2 +\n",
    "        (result['pctstu_scaled'] - target['pctstu_scaled']) ** 2 +\n",
    "        (result['pctrnths_scaled'] - target['pctrnths_scaled']) ** 2 +\n",
    "        (result['avginc_scaled'] - target['avginc_scaled']) ** 2\n",
    "    )\n",
    "    return result.sort_values(by='dist').iloc[1:k+1]['rent'].mean()"
   ],
   "metadata": {
    "collapsed": false,
    "ExecuteTime": {
     "end_time": "2024-01-22T13:11:29.165240Z",
     "start_time": "2024-01-22T13:11:29.159952Z"
    }
   }
  },
  {
   "cell_type": "code",
   "execution_count": 156,
   "outputs": [],
   "source": [
    "def mean_square_error(prediction, actual):\n",
    "    return np.mean((prediction - actual) ** 2)"
   ],
   "metadata": {
    "collapsed": false,
    "ExecuteTime": {
     "end_time": "2024-01-22T13:11:29.165363Z",
     "start_time": "2024-01-22T13:11:29.163267Z"
    }
   }
  },
  {
   "cell_type": "code",
   "execution_count": 157,
   "outputs": [
    {
     "name": "stderr",
     "output_type": "stream",
     "text": [
      "/var/folders/g7/zwq0_rkx69s36_nrdsxf6rnm0000gn/T/ipykernel_37632/1337292961.py:1: SettingWithCopyWarning: \n",
      "A value is trying to be set on a copy of a slice from a DataFrame.\n",
      "Try using .loc[row_indexer,col_indexer] = value instead\n",
      "\n",
      "See the caveats in the documentation: https://pandas.pydata.org/pandas-docs/stable/user_guide/indexing.html#returning-a-view-versus-a-copy\n",
      "  DF80['pred'] = DF80.apply(lambda x: get_knn_rent_prediction(DF80, x, 10), axis=1)\n",
      "/var/folders/g7/zwq0_rkx69s36_nrdsxf6rnm0000gn/T/ipykernel_37632/1337292961.py:2: SettingWithCopyWarning: \n",
      "A value is trying to be set on a copy of a slice from a DataFrame.\n",
      "Try using .loc[row_indexer,col_indexer] = value instead\n",
      "\n",
      "See the caveats in the documentation: https://pandas.pydata.org/pandas-docs/stable/user_guide/indexing.html#returning-a-view-versus-a-copy\n",
      "  DF90['pred'] = DF90.apply(lambda x: get_knn_rent_prediction(DF90, x, 10), axis=1)\n"
     ]
    }
   ],
   "source": [
    "DF80['pred'] = DF80.apply(lambda x: get_knn_rent_prediction(DF80, x, 10), axis=1)\n",
    "DF90['pred'] = DF90.apply(lambda x: get_knn_rent_prediction(DF90, x, 10), axis=1)"
   ],
   "metadata": {
    "collapsed": false,
    "ExecuteTime": {
     "end_time": "2024-01-22T13:11:29.233922Z",
     "start_time": "2024-01-22T13:11:29.165881Z"
    }
   }
  },
  {
   "cell_type": "code",
   "execution_count": 158,
   "outputs": [],
   "source": [
    "mse80 = mean_square_error(DF80['pred'], DF80['rent'])\n",
    "mse90 = mean_square_error(DF90['pred'], DF90['rent'])"
   ],
   "metadata": {
    "collapsed": false,
    "ExecuteTime": {
     "end_time": "2024-01-22T13:11:29.236998Z",
     "start_time": "2024-01-22T13:11:29.234903Z"
    }
   }
  },
  {
   "cell_type": "code",
   "execution_count": 159,
   "outputs": [
    {
     "data": {
      "text/plain": "1608.0789062499998"
     },
     "execution_count": 159,
     "metadata": {},
     "output_type": "execute_result"
    }
   ],
   "source": [
    "mse80"
   ],
   "metadata": {
    "collapsed": false,
    "ExecuteTime": {
     "end_time": "2024-01-22T13:11:29.240398Z",
     "start_time": "2024-01-22T13:11:29.237739Z"
    }
   }
  },
  {
   "cell_type": "code",
   "execution_count": 160,
   "outputs": [
    {
     "data": {
      "text/plain": "7394.045"
     },
     "execution_count": 160,
     "metadata": {},
     "output_type": "execute_result"
    }
   ],
   "source": [
    "mse90"
   ],
   "metadata": {
    "collapsed": false,
    "ExecuteTime": {
     "end_time": "2024-01-22T13:11:29.243453Z",
     "start_time": "2024-01-22T13:11:29.240593Z"
    }
   }
  },
  {
   "cell_type": "code",
   "execution_count": 160,
   "outputs": [],
   "source": [],
   "metadata": {
    "collapsed": false,
    "ExecuteTime": {
     "end_time": "2024-01-22T13:11:29.245658Z",
     "start_time": "2024-01-22T13:11:29.244067Z"
    }
   }
  }
 ],
 "metadata": {
  "kernelspec": {
   "display_name": "Python 3",
   "language": "python",
   "name": "python3"
  },
  "language_info": {
   "codemirror_mode": {
    "name": "ipython",
    "version": 2
   },
   "file_extension": ".py",
   "mimetype": "text/x-python",
   "name": "python",
   "nbconvert_exporter": "python",
   "pygments_lexer": "ipython2",
   "version": "2.7.6"
  }
 },
 "nbformat": 4,
 "nbformat_minor": 0
}
